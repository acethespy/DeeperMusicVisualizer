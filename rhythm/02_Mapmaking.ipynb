{
 "cells": [
  {
   "cell_type": "markdown",
   "metadata": {},
   "source": [
    "## osumapper #4: New Map Reader\n"
   ]
  },
  {
   "cell_type": "markdown",
   "metadata": {},
   "source": [
    "Set the input file string to a timed (having the right BPM/offset) .osu file.\n",
    "\n",
    "It converts the map/music to Python readable format."
   ]
  },
  {
   "cell_type": "code",
   "execution_count": null,
   "metadata": {},
   "outputs": [],
   "source": [
    "from act_newmap_prep import *\n",
    "\n",
    "# input file here! (don't remove the \"r\" before string)\n",
    "file_path = r'..\\..\\test_data\\test.osu'\n",
    "\n",
    "# Or use auto timing with music file only!!\n",
    "\n",
    "# from act_timing import *;\n",
    "# music_path = r\"..\\..\\test_data\\audio.mp3\"\n",
    "# file_path = get_timed_osu_file(music_path, game_mode=0);\n",
    "\n",
    "step4_read_new_map(file_path);"
   ]
  },
  {
   "cell_type": "markdown",
   "metadata": {},
   "source": [
    "## osumapper #5: Rhythm Predictor\n",
    "\n",
    "Calculates a map's rhythm based on the music and timing."
   ]
  },
  {
   "cell_type": "markdown",
   "metadata": {},
   "source": [
    "Parameters:\n",
    "\n",
    "\"note_density\" determines how many notes will be placed on the timeline, ranges from 0 to 1.<br>\n",
    "\"slider_favor\" determines how the model favors sliders against circles, ranges from -1 to 1.<br>\n",
    "\"dist_multiplier\" determines the distance snap. ranges from 0 to +∞. Of course 0/+∞ are not advisable.<br>\n",
    "\"divisor_favor\" determines how the model favors notes to be on X divisors starting from a beat (white, blue, red, blue), ranges from -1 to 1 each.<br>\n",
    "\"slider_max_ticks\" determines the max amount of time a slider can slide, ranges from 1 to +∞."
   ]
  },
  {
   "cell_type": "code",
   "execution_count": null,
   "metadata": {},
   "outputs": [],
   "source": [
    "from act_rhythm_calc import *\n",
    "\n",
    "model = step5_load_model();\n",
    "npz = step5_load_npz();\n",
    "params = step5_set_params(dist_multiplier=1, note_density=0.35, slider_favor=0, divisor_favor=[0] * 4, slider_max_ticks=8);\n",
    "\n",
    "predictions = step5_predict_notes(model, npz, params);\n",
    "converted = step5_convert_sliders(predictions, params);"
   ]
  },
  {
   "cell_type": "code",
   "execution_count": null,
   "metadata": {},
   "outputs": [],
   "source": [
    "step5_save_predictions(converted);"
   ]
  },
  {
   "cell_type": "markdown",
   "metadata": {},
   "source": [
    "## osumapper #6: Map flow generator\n",
    "\n",
    "Generate the final map using a Generative Adversarial Network.\n",
    "\n",
    "Parameters:\n",
    "\n",
    "- note_distance_basis: the baseline for distance snap between notes\n",
    "- max_ticks_for_ds: max number of time ticks (each 1/4) that it uses the distance snap\n",
    "- next_from_slider_end: use slider end instead of slider head for calculating distance\n",
    "- box_loss_border, box_loss_value: it's like a barrier on the map edges that bounces off the circles\n",
    "- divisor, note_group_size: don't change unless you're using a special model built for it\n",
    "- good_epoch, max_epoch: controls the training time. less time makes it faster but risks less quality\n",
    "- g_\\*, c_\\*: hyperparameters used by GAN. No one knows how they work but they mysterically affect the result"
   ]
  },
  {
   "cell_type": "code",
   "execution_count": null,
   "metadata": {
    "scrolled": true
   },
   "outputs": [],
   "source": [
    "from act_gan import *;\n",
    "\n",
    "gan_params = {\n",
    "    \"divisor\" : 4,\n",
    "    \"good_epoch\" : 12,\n",
    "    \"max_epoch\" : 30,\n",
    "    \"note_group_size\" : 10,\n",
    "    \"g_epochs\" : 1,\n",
    "    \"c_epochs\" : 1,\n",
    "    \"g_batch\" : 50,\n",
    "    \"g_input_size\" : 50,\n",
    "    \"c_true_batch\" : 140,\n",
    "    \"c_false_batch\" : 5,\n",
    "    \"c_randfalse_batch\" : 5,\n",
    "    \"note_distance_basis\" : 200,\n",
    "    \"next_from_slider_end\" : False,\n",
    "    \"max_ticks_for_ds\" : 1,\n",
    "    \"box_loss_border\" : 0.1,\n",
    "    \"box_loss_value\" : 0.4,\n",
    "    \"box_loss_weight\" : 1\n",
    "};\n",
    "\n",
    "step6_set_gan_params(gan_params);\n",
    "osu_a, data = step6_run_all();"
   ]
  },
  {
   "cell_type": "markdown",
   "metadata": {},
   "source": [
    "### Since the generation will take a while...\n",
    "\n",
    "we can appreciate a nice picture of Cute Sophie!!\n",
    "\n",
    "<img src=\"https://i.imgur.com/Ko2wogO.jpg\" />"
   ]
  },
  {
   "cell_type": "markdown",
   "metadata": {},
   "source": [
    "Do a little modding to the map.\n",
    "\n",
    "Parameters:\n",
    "\n",
    "- stream_regularizer: fix bad streams. integer for modes (0,1,2,3,4) 0=inactive\n",
    "- slider_mirror: mirror slider ends if they go outside map area. (0,1) 0=inactive 1=active"
   ]
  },
  {
   "cell_type": "code",
   "execution_count": null,
   "metadata": {},
   "outputs": [],
   "source": [
    "from act_modding import *\n",
    "\n",
    "modding_params = {\n",
    "    \"stream_regularizer\" : 1,\n",
    "    \"slider_mirror\" : 1\n",
    "}\n",
    "\n",
    "osu_a, data = step7_modding(osu_a, data, modding_params);"
   ]
  },
  {
   "cell_type": "markdown",
   "metadata": {},
   "source": [
    "Finally, save the data into an .osu file!"
   ]
  },
  {
   "cell_type": "code",
   "execution_count": null,
   "metadata": {},
   "outputs": [],
   "source": [
    "from act_final import *\n",
    "\n",
    "saved_osu_name = step8_save_osu_file(osu_a, data);\n",
    "\n",
    "# for taiko mode only (comment out the above line and use below)\n",
    "# from act_taiko_hitsounds import *\n",
    "# taiko_hitsounds_params = step8_taiko_hitsounds_set_params(divisor=4, metronome_count=4)\n",
    "# hitsounds = step8_apply_taiko_hitsounds(osu_a, data, params=taiko_hitsounds_params)\n",
    "# saved_osu_name = step8_save_osu_file(osu_a, data, hitsounds=hitsounds);\n",
    "\n",
    "# clean up the folder\n",
    "step8_clean_up();"
   ]
  },
  {
   "cell_type": "markdown",
   "metadata": {},
   "source": [
    "If it works alright, you should have a nice .osu file under the folder of these notebooks now!\n",
    "\n",
    "If it does not work, please tell me the problem so probably I could fix it!\n",
    "\n",
    "For bug reports and feedbacks either report it on github or use discord: <br>\n",
    "[https://discord.com/invite/npmSy7K](https://discord.com/invite/npmSy7K)"
   ]
  }
 ],
 "metadata": {
  "kernelspec": {
   "display_name": "Python 3",
   "language": "python",
   "name": "python3"
  },
  "language_info": {
   "codemirror_mode": {
    "name": "ipython",
    "version": 3
   },
   "file_extension": ".py",
   "mimetype": "text/x-python",
   "name": "python",
   "nbconvert_exporter": "python",
   "pygments_lexer": "ipython3",
   "version": "3.8.3"
  }
 },
 "nbformat": 4,
 "nbformat_minor": 2
}
